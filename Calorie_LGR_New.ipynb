{
  "nbformat": 4,
  "nbformat_minor": 0,
  "metadata": {
    "colab": {
      "provenance": []
    },
    "kernelspec": {
      "name": "python3",
      "display_name": "Python 3"
    },
    "language_info": {
      "name": "python"
    }
  },
  "cells": [
    {
      "cell_type": "code",
      "execution_count": 3,
      "metadata": {
        "colab": {
          "base_uri": "https://localhost:8080/"
        },
        "id": "BcbFWxDBclOI",
        "outputId": "3f30a9b9-063e-4cad-bf73-419d85cf5eaa"
      },
      "outputs": [
        {
          "output_type": "stream",
          "name": "stdout",
          "text": [
            "Accuracy = 0.9783333333333334\n",
            "Precision = 0.9762611275964391\n",
            "Recall = 0.9755374351371386\n",
            "F1 Score = 0.9758991472005932\n",
            "Mean Absolute Error = 0.021666666666666667\n"
          ]
        },
        {
          "output_type": "stream",
          "name": "stderr",
          "text": [
            "/usr/local/lib/python3.10/dist-packages/sklearn/linear_model/_logistic.py:460: ConvergenceWarning: lbfgs failed to converge (status=1):\n",
            "STOP: TOTAL NO. of ITERATIONS REACHED LIMIT.\n",
            "\n",
            "Increase the number of iterations (max_iter) or scale the data as shown in:\n",
            "    https://scikit-learn.org/stable/modules/preprocessing.html\n",
            "Please also refer to the documentation for alternative solver options:\n",
            "    https://scikit-learn.org/stable/modules/linear_model.html#logistic-regression\n",
            "  n_iter_i = _check_optimize_result(\n"
          ]
        }
      ],
      "source": [
        "import numpy as np\n",
        "import pandas as pd\n",
        "import matplotlib.pyplot as plt\n",
        "import seaborn as sns\n",
        "from sklearn.model_selection import train_test_split\n",
        "from sklearn.linear_model import LogisticRegression\n",
        "from sklearn.metrics import accuracy_score, precision_score, recall_score, f1_score, mean_absolute_error\n",
        "\n",
        "# Load the data from csv file to a Pandas DataFrame\n",
        "calories = pd.read_csv('/content/calories.csv')\n",
        "exercise_data = pd.read_csv('/content/exercise.csv')\n",
        "\n",
        "# Merging the datasets\n",
        "calories_data = pd.concat([exercise_data, calories['Calories']], axis=1)\n",
        "\n",
        "# Preprocessing\n",
        "calories_data.replace({\"Gender\":{'male':0,'female':1}}, inplace=True)\n",
        "\n",
        "# Convert the 'Calories' column to binary classification (e.g., high vs low calorie burn)\n",
        "threshold = calories_data['Calories'].mean()\n",
        "calories_data['Calories'] = np.where(calories_data['Calories'] > threshold, 1, 0)\n",
        "\n",
        "# Split the data into features and target\n",
        "X = calories_data.drop(columns=['User_ID', 'Calories'], axis=1)\n",
        "Y = calories_data['Calories']\n",
        "\n",
        "# Split the data into training and test sets\n",
        "X_train, X_test, Y_train, Y_test = train_test_split(X, Y, test_size=0.2, random_state=2)\n",
        "\n",
        "# Load and train the Logistic Regression model\n",
        "model = LogisticRegression()\n",
        "model.fit(X_train, Y_train)\n",
        "\n",
        "# Predicting the test set results\n",
        "y_pred = model.predict(X_test)\n",
        "\n",
        "# Calculate classification metrics\n",
        "accuracy = accuracy_score(Y_test, y_pred)\n",
        "precision = precision_score(Y_test, y_pred)\n",
        "recall = recall_score(Y_test, y_pred)\n",
        "f1 = f1_score(Y_test, y_pred)\n",
        "\n",
        "# Calculate Mean Absolute Error (MAE)\n",
        "mae = mean_absolute_error(Y_test, y_pred)\n",
        "\n",
        "print(\"Accuracy =\", accuracy)\n",
        "print(\"Precision =\", precision)\n",
        "print(\"Recall =\", recall)\n",
        "print(\"F1 Score =\", f1)\n",
        "print(\"Mean Absolute Error =\", mae)\n"
      ]
    }
  ]
}