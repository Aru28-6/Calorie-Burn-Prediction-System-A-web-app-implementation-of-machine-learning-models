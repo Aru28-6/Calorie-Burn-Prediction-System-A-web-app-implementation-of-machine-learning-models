{
  "nbformat": 4,
  "nbformat_minor": 0,
  "metadata": {
    "colab": {
      "provenance": []
    },
    "kernelspec": {
      "name": "python3",
      "display_name": "Python 3"
    },
    "language_info": {
      "name": "python"
    }
  },
  "cells": [
    {
      "cell_type": "code",
      "execution_count": 1,
      "metadata": {
        "colab": {
          "base_uri": "https://localhost:8080/"
        },
        "id": "BcbFWxDBclOI",
        "outputId": "9b11530a-f6a1-4af4-a289-8a7006a5b5bf"
      },
      "outputs": [
        {
          "output_type": "stream",
          "name": "stdout",
          "text": [
            "Mean Absolute Error = 1.4833678883314132\n",
            "Accuracy = 0.9943333333333333\n",
            "Precision = 0.9918759231905465\n",
            "Recall = 0.9955522609340252\n",
            "F1 Score = 0.9937106918238994\n"
          ]
        }
      ],
      "source": [
        "import numpy as np\n",
        "import pandas as pd\n",
        "import matplotlib.pyplot as plt\n",
        "import seaborn as sns\n",
        "from sklearn.model_selection import train_test_split\n",
        "from xgboost import XGBRegressor\n",
        "from sklearn import metrics\n",
        "from sklearn.metrics import accuracy_score, precision_score, recall_score, f1_score\n",
        "\n",
        "# loading the data from csv file to a Pandas DataFrame\n",
        "calories = pd.read_csv('/content/calories.csv')\n",
        "exercise_data = pd.read_csv('/content/exercise.csv')\n",
        "\n",
        "# Merging the datasets\n",
        "calories_data = pd.concat([exercise_data, calories['Calories']], axis=1)\n",
        "\n",
        "# Preprocessing\n",
        "calories_data.replace({\"Gender\":{'male':0,'female':1}}, inplace=True)\n",
        "X = calories_data.drop(columns=['User_ID','Calories'], axis=1)\n",
        "Y = calories_data['Calories']\n",
        "\n",
        "# Splitting the data into training and test sets\n",
        "X_train, X_test, Y_train, Y_test = train_test_split(X, Y, test_size=0.2, random_state=2)\n",
        "\n",
        "# Loading and training the model\n",
        "model = XGBRegressor()\n",
        "model.fit(X_train, Y_train)\n",
        "\n",
        "# Predicting the test set results\n",
        "test_data_prediction = model.predict(X_test)\n",
        "\n",
        "# Calculate the Mean Absolute Error\n",
        "mae = metrics.mean_absolute_error(Y_test, test_data_prediction)\n",
        "print(\"Mean Absolute Error =\", mae)\n",
        "\n",
        "# Convert regression predictions to binary classes based on a threshold (e.g., mean of Y_test)\n",
        "threshold = Y_test.mean()\n",
        "y_pred_classes = np.where(test_data_prediction > threshold, 1, 0)\n",
        "y_true_classes = np.where(Y_test > threshold, 1, 0)\n",
        "\n",
        "# Calculate classification metrics\n",
        "accuracy = accuracy_score(y_true_classes, y_pred_classes)\n",
        "precision = precision_score(y_true_classes, y_pred_classes)\n",
        "recall = recall_score(y_true_classes, y_pred_classes)\n",
        "f1 = f1_score(y_true_classes, y_pred_classes)\n",
        "\n",
        "print(\"Accuracy =\", accuracy)\n",
        "print(\"Precision =\", precision)\n",
        "print(\"Recall =\", recall)\n",
        "print(\"F1 Score =\", f1)\n"
      ]
    }
  ]
}